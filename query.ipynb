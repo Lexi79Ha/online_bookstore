{
 "cells": [
  {
   "cell_type": "code",
   "execution_count": 1,
   "id": "7ea3571315f215cb",
   "metadata": {
    "collapsed": false,
    "ExecuteTime": {
     "end_time": "2024-03-28T21:34:24.733292300Z",
     "start_time": "2024-03-28T21:34:17.015948600Z"
    }
   },
   "outputs": [
    {
     "name": "stdout",
     "output_type": "stream",
     "text": [
      "Error accessing database: invalid input syntax for type bigint: \"\"\n",
      "LINE 1: SELECT title, author FROM book_data WHERE isbn = ''\n",
      "                                                         ^\n"
     ]
    }
   ],
   "source": [
    "import psycopg2\n",
    "\n",
    "def get_book_info_by_isbn(isbn):\n",
    "    try:\n",
    "        # Replace with your database connection details\n",
    "        db_params = {\n",
    "            \"dbname\": \"Book_Store\",\n",
    "            \"user\": \"postgres\",\n",
    "            \"password\": \"auth2020\",\n",
    "            \"host\": \"localhost\",  # Change to your database host\n",
    "            \"port\": \"5432\",       # Change to your database port\n",
    "        }\n",
    "\n",
    "        # Establish a connection to the PostgreSQL server\n",
    "        conn = psycopg2.connect(**db_params)\n",
    "        cursor = conn.cursor()\n",
    "\n",
    "        # Construct the query to retrieve book info by ISBN\n",
    "        query = f\"SELECT title, author FROM book_data WHERE isbn = '{isbn}'\"\n",
    "        cursor.execute(query)\n",
    "\n",
    "        # Fetch and print the results (if any)\n",
    "        result = cursor.fetchone()\n",
    "        if result:\n",
    "            title, author = result\n",
    "            print(f\"Title: {title}\\nAuthor: {author}\")\n",
    "        else:\n",
    "            print(f\"No book found for ISBN {isbn}\")\n",
    "\n",
    "        # Close the database connection\n",
    "        conn.close()\n",
    "    except psycopg2.Error as e:\n",
    "        print(f\"Error accessing database: {e}\")\n",
    "\n",
    "if __name__ == \"__main__\":\n",
    "    user_isbn = input(\"Enter an ISBN code: \")\n",
    "    get_book_info_by_isbn(user_isbn)\n",
    "\n"
   ]
  },
  {
   "cell_type": "code",
   "outputs": [],
   "source": [],
   "metadata": {
    "collapsed": false,
    "ExecuteTime": {
     "end_time": "2024-03-28T21:34:24.759975400Z",
     "start_time": "2024-03-28T21:34:24.716117400Z"
    }
   },
   "id": "72fd2d0ae4c936c4",
   "execution_count": 1
  }
 ],
 "metadata": {
  "kernelspec": {
   "display_name": "Python 3",
   "language": "python",
   "name": "python3"
  },
  "language_info": {
   "codemirror_mode": {
    "name": "ipython",
    "version": 2
   },
   "file_extension": ".py",
   "mimetype": "text/x-python",
   "name": "python",
   "nbconvert_exporter": "python",
   "pygments_lexer": "ipython2",
   "version": "2.7.6"
  }
 },
 "nbformat": 4,
 "nbformat_minor": 5
}
